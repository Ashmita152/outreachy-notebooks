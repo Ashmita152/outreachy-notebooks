{
 "cells": [
  {
   "cell_type": "code",
   "execution_count": 1,
   "metadata": {},
   "outputs": [],
   "source": [
    "import pandas as pd\n",
    "import seaborn as sns\n",
    "import warnings as wrns\n",
    "import matplotlib.pyplot as plt\n",
    "\n",
    "from sklearn.cluster import KMeans\n",
    "from urllib.parse import urlparse"
   ]
  },
  {
   "cell_type": "code",
   "execution_count": 2,
   "metadata": {},
   "outputs": [],
   "source": [
    "wrns.filterwarnings('ignore')"
   ]
  },
  {
   "cell_type": "code",
   "execution_count": 3,
   "metadata": {},
   "outputs": [],
   "source": [
    "data = {\n",
    "    'method': [],\n",
    "    'version':[],\n",
    "    'scheme': [],\n",
    "    'netloc': [],\n",
    "    'path': [],\n",
    "    'query': []\n",
    "}"
   ]
  },
  {
   "cell_type": "code",
   "execution_count": 4,
   "metadata": {},
   "outputs": [
    {
     "data": {
      "text/html": [
       "<div>\n",
       "<style scoped>\n",
       "    .dataframe tbody tr th:only-of-type {\n",
       "        vertical-align: middle;\n",
       "    }\n",
       "\n",
       "    .dataframe tbody tr th {\n",
       "        vertical-align: top;\n",
       "    }\n",
       "\n",
       "    .dataframe thead th {\n",
       "        text-align: right;\n",
       "    }\n",
       "</style>\n",
       "<table border=\"1\" class=\"dataframe\">\n",
       "  <thead>\n",
       "    <tr style=\"text-align: right;\">\n",
       "      <th></th>\n",
       "      <th>method</th>\n",
       "      <th>version</th>\n",
       "      <th>scheme</th>\n",
       "      <th>netloc</th>\n",
       "      <th>path</th>\n",
       "      <th>query</th>\n",
       "    </tr>\n",
       "  </thead>\n",
       "  <tbody>\n",
       "    <tr>\n",
       "      <th>0</th>\n",
       "      <td>GET</td>\n",
       "      <td>HTTP/1.1</td>\n",
       "      <td>http</td>\n",
       "      <td>localhost:8080</td>\n",
       "      <td>/tienda1/index.jsp</td>\n",
       "      <td></td>\n",
       "    </tr>\n",
       "    <tr>\n",
       "      <th>1</th>\n",
       "      <td>GET</td>\n",
       "      <td>HTTP/1.1</td>\n",
       "      <td>http</td>\n",
       "      <td>localhost:8080</td>\n",
       "      <td>/tienda1/publico/anadir.jsp</td>\n",
       "      <td>id=3&amp;nombre=Vino+Rioja&amp;precio=100&amp;cantidad=55&amp;...</td>\n",
       "    </tr>\n",
       "    <tr>\n",
       "      <th>2</th>\n",
       "      <td>POST</td>\n",
       "      <td>HTTP/1.1</td>\n",
       "      <td>http</td>\n",
       "      <td>localhost:8080</td>\n",
       "      <td>/tienda1/publico/anadir.jsp</td>\n",
       "      <td></td>\n",
       "    </tr>\n",
       "    <tr>\n",
       "      <th>3</th>\n",
       "      <td>GET</td>\n",
       "      <td>HTTP/1.1</td>\n",
       "      <td>http</td>\n",
       "      <td>localhost:8080</td>\n",
       "      <td>/tienda1/publico/autenticar.jsp</td>\n",
       "      <td>modo=entrar&amp;login=choong&amp;pwd=d1se3ci%F3n&amp;remem...</td>\n",
       "    </tr>\n",
       "    <tr>\n",
       "      <th>4</th>\n",
       "      <td>POST</td>\n",
       "      <td>HTTP/1.1</td>\n",
       "      <td>http</td>\n",
       "      <td>localhost:8080</td>\n",
       "      <td>/tienda1/publico/autenticar.jsp</td>\n",
       "      <td></td>\n",
       "    </tr>\n",
       "  </tbody>\n",
       "</table>\n",
       "</div>"
      ],
      "text/plain": [
       "  method   version scheme          netloc                             path  \\\n",
       "0    GET  HTTP/1.1   http  localhost:8080               /tienda1/index.jsp   \n",
       "1    GET  HTTP/1.1   http  localhost:8080      /tienda1/publico/anadir.jsp   \n",
       "2   POST  HTTP/1.1   http  localhost:8080      /tienda1/publico/anadir.jsp   \n",
       "3    GET  HTTP/1.1   http  localhost:8080  /tienda1/publico/autenticar.jsp   \n",
       "4   POST  HTTP/1.1   http  localhost:8080  /tienda1/publico/autenticar.jsp   \n",
       "\n",
       "                                               query  \n",
       "0                                                     \n",
       "1  id=3&nombre=Vino+Rioja&precio=100&cantidad=55&...  \n",
       "2                                                     \n",
       "3  modo=entrar&login=choong&pwd=d1se3ci%F3n&remem...  \n",
       "4                                                     "
      ]
     },
     "execution_count": 4,
     "metadata": {},
     "output_type": "execute_result"
    }
   ],
   "source": [
    "with open(\"normal.txt\", 'r') as fd:\n",
    "    lines = fd.readlines()\n",
    "    for line in lines:\n",
    "        line = line.split()\n",
    "        output = urlparse(line[1])\n",
    "        line.extend(output)\n",
    "        data['method'].append(line[0])\n",
    "        data['version'].append(line[2])\n",
    "        data['scheme'].append(line[3])\n",
    "        data['netloc'].append(line[4])\n",
    "        data['path'].append(line[5])\n",
    "        data['query'].append(line[7])\n",
    "\n",
    "df = pd.DataFrame(data=data)\n",
    "df.head()        "
   ]
  },
  {
   "cell_type": "code",
   "execution_count": 5,
   "metadata": {},
   "outputs": [
    {
     "data": {
      "text/html": [
       "<div>\n",
       "<style scoped>\n",
       "    .dataframe tbody tr th:only-of-type {\n",
       "        vertical-align: middle;\n",
       "    }\n",
       "\n",
       "    .dataframe tbody tr th {\n",
       "        vertical-align: top;\n",
       "    }\n",
       "\n",
       "    .dataframe thead th {\n",
       "        text-align: right;\n",
       "    }\n",
       "</style>\n",
       "<table border=\"1\" class=\"dataframe\">\n",
       "  <thead>\n",
       "    <tr style=\"text-align: right;\">\n",
       "      <th></th>\n",
       "      <th>method</th>\n",
       "      <th>version</th>\n",
       "      <th>scheme</th>\n",
       "      <th>netloc</th>\n",
       "      <th>path</th>\n",
       "      <th>query</th>\n",
       "    </tr>\n",
       "  </thead>\n",
       "  <tbody>\n",
       "    <tr>\n",
       "      <th>0</th>\n",
       "      <td>GET</td>\n",
       "      <td>HTTP/1.1</td>\n",
       "      <td>http</td>\n",
       "      <td>localhost:8080</td>\n",
       "      <td>10</td>\n",
       "      <td>0</td>\n",
       "    </tr>\n",
       "    <tr>\n",
       "      <th>1</th>\n",
       "      <td>GET</td>\n",
       "      <td>HTTP/1.1</td>\n",
       "      <td>http</td>\n",
       "      <td>localhost:8080</td>\n",
       "      <td>18</td>\n",
       "      <td>760</td>\n",
       "    </tr>\n",
       "    <tr>\n",
       "      <th>2</th>\n",
       "      <td>POST</td>\n",
       "      <td>HTTP/1.1</td>\n",
       "      <td>http</td>\n",
       "      <td>localhost:8080</td>\n",
       "      <td>18</td>\n",
       "      <td>0</td>\n",
       "    </tr>\n",
       "    <tr>\n",
       "      <th>3</th>\n",
       "      <td>GET</td>\n",
       "      <td>HTTP/1.1</td>\n",
       "      <td>http</td>\n",
       "      <td>localhost:8080</td>\n",
       "      <td>19</td>\n",
       "      <td>1010</td>\n",
       "    </tr>\n",
       "    <tr>\n",
       "      <th>4</th>\n",
       "      <td>POST</td>\n",
       "      <td>HTTP/1.1</td>\n",
       "      <td>http</td>\n",
       "      <td>localhost:8080</td>\n",
       "      <td>19</td>\n",
       "      <td>0</td>\n",
       "    </tr>\n",
       "    <tr>\n",
       "      <th>...</th>\n",
       "      <td>...</td>\n",
       "      <td>...</td>\n",
       "      <td>...</td>\n",
       "      <td>...</td>\n",
       "      <td>...</td>\n",
       "      <td>...</td>\n",
       "    </tr>\n",
       "    <tr>\n",
       "      <th>35995</th>\n",
       "      <td>GET</td>\n",
       "      <td>HTTP/1.1</td>\n",
       "      <td>http</td>\n",
       "      <td>localhost:8080</td>\n",
       "      <td>5</td>\n",
       "      <td>0</td>\n",
       "    </tr>\n",
       "    <tr>\n",
       "      <th>35996</th>\n",
       "      <td>GET</td>\n",
       "      <td>HTTP/1.1</td>\n",
       "      <td>http</td>\n",
       "      <td>localhost:8080</td>\n",
       "      <td>6</td>\n",
       "      <td>0</td>\n",
       "    </tr>\n",
       "    <tr>\n",
       "      <th>35997</th>\n",
       "      <td>GET</td>\n",
       "      <td>HTTP/1.1</td>\n",
       "      <td>http</td>\n",
       "      <td>localhost:8080</td>\n",
       "      <td>7</td>\n",
       "      <td>0</td>\n",
       "    </tr>\n",
       "    <tr>\n",
       "      <th>35998</th>\n",
       "      <td>GET</td>\n",
       "      <td>HTTP/1.1</td>\n",
       "      <td>http</td>\n",
       "      <td>localhost:8080</td>\n",
       "      <td>8</td>\n",
       "      <td>0</td>\n",
       "    </tr>\n",
       "    <tr>\n",
       "      <th>35999</th>\n",
       "      <td>GET</td>\n",
       "      <td>HTTP/1.1</td>\n",
       "      <td>http</td>\n",
       "      <td>localhost:8080</td>\n",
       "      <td>9</td>\n",
       "      <td>0</td>\n",
       "    </tr>\n",
       "  </tbody>\n",
       "</table>\n",
       "<p>36000 rows × 6 columns</p>\n",
       "</div>"
      ],
      "text/plain": [
       "      method   version scheme          netloc  path  query\n",
       "0        GET  HTTP/1.1   http  localhost:8080    10      0\n",
       "1        GET  HTTP/1.1   http  localhost:8080    18    760\n",
       "2       POST  HTTP/1.1   http  localhost:8080    18      0\n",
       "3        GET  HTTP/1.1   http  localhost:8080    19   1010\n",
       "4       POST  HTTP/1.1   http  localhost:8080    19      0\n",
       "...      ...       ...    ...             ...   ...    ...\n",
       "35995    GET  HTTP/1.1   http  localhost:8080     5      0\n",
       "35996    GET  HTTP/1.1   http  localhost:8080     6      0\n",
       "35997    GET  HTTP/1.1   http  localhost:8080     7      0\n",
       "35998    GET  HTTP/1.1   http  localhost:8080     8      0\n",
       "35999    GET  HTTP/1.1   http  localhost:8080     9      0\n",
       "\n",
       "[36000 rows x 6 columns]"
      ]
     },
     "execution_count": 5,
     "metadata": {},
     "output_type": "execute_result"
    }
   ],
   "source": [
    "# Convert a particular column to categorical data\n",
    "def convert_to_categorical(dataframe, column):\n",
    "    dataframe[column] = dataframe[column].astype('category').cat.codes\n",
    "    return dataframe\n",
    "\n",
    "# Convert path and query to categorical data\n",
    "convert_to_categorical(df, 'path')\n",
    "convert_to_categorical(df, 'query')"
   ]
  },
  {
   "cell_type": "code",
   "execution_count": 6,
   "metadata": {},
   "outputs": [],
   "source": [
    "# Using only path and query\n",
    "X = df.iloc[:,[4,5]].values"
   ]
  },
  {
   "cell_type": "code",
   "execution_count": 7,
   "metadata": {},
   "outputs": [],
   "source": [
    "# Using the elbow method to find the optimal number of clusters\n",
    "wcss = []\n",
    "for i in range(1, 11):\n",
    "    kmeans = KMeans(n_clusters = i, init = 'k-means++', random_state = 42)\n",
    "    kmeans.fit(X)\n",
    "    wcss.append(kmeans.inertia_)"
   ]
  },
  {
   "cell_type": "code",
   "execution_count": 8,
   "metadata": {},
   "outputs": [
    {
     "data": {
      "image/png": "[encoded data removed]",
      "text/plain": [
       "<Figure size 720x360 with 1 Axes>"
      ]
     },
     "metadata": {
      "needs_background": "light"
     },
     "output_type": "display_data"
    }
   ],
   "source": [
    "plt.figure(figsize=(10,5))\n",
    "sns.lineplot(range(1, 11), wcss,marker='o',color='red')\n",
    "plt.title('The Elbow Method')\n",
    "plt.xlabel('Number of clusters')\n",
    "plt.ylabel('WCSS')\n",
    "plt.show()"
   ]
  },
  {
   "cell_type": "code",
   "execution_count": 9,
   "metadata": {},
   "outputs": [],
   "source": [
    "kmeans = KMeans(n_clusters = 2, init = 'k-means++', random_state = 42)\n",
    "y_kmeans = kmeans.fit_predict(X)"
   ]
  },
  {
   "cell_type": "code",
   "execution_count": 10,
   "metadata": {},
   "outputs": [
    {
     "data": {
      "image/png": "[encoded data removed]",
      "text/plain": [
       "<Figure size 1080x504 with 1 Axes>"
      ]
     },
     "metadata": {
      "needs_background": "light"
     },
     "output_type": "display_data"
    }
   ],
   "source": [
    "plt.figure(figsize=(15,7))\n",
    "sns.scatterplot(X[y_kmeans == 0, 0], X[y_kmeans == 0, 1], color = 'yellow', label = 'Cluster 1',s = 100)\n",
    "sns.scatterplot(X[y_kmeans == 1, 0], X[y_kmeans == 1, 1], color = 'blue', label = 'Cluster 2',s = 100)\n",
    "sns.scatterplot(\n",
    "    kmeans.cluster_centers_[:, 0],\n",
    "    kmeans.cluster_centers_[:, 1],\n",
    "    color = 'red', \n",
    "    label = 'Centroids',\n",
    "    s = 200,\n",
    "    marker = ','\n",
    ")\n",
    "plt.grid(False)\n",
    "plt.title('Clusters of customers')\n",
    "plt.xlabel('Path')\n",
    "plt.ylabel('Query')\n",
    "plt.legend()\n",
    "plt.show()"
   ]
  },
  {
   "cell_type": "code",
   "execution_count": null,
   "metadata": {},
   "outputs": [],
   "source": []
  }
 ],
 "metadata": {
  "kernelspec": {
   "display_name": "Python 3",
   "language": "python",
   "name": "python3"
  },
  "language_info": {
   "codemirror_mode": {
    "name": "ipython",
    "version": 3
   },
   "file_extension": ".py",
   "mimetype": "text/x-python",
   "name": "python",
   "nbconvert_exporter": "python",
   "pygments_lexer": "ipython3",
   "version": "3.7.4"
  }
 },
 "nbformat": 4,
 "nbformat_minor": 2
}
