{
 "cells": [
  {
   "cell_type": "markdown",
   "metadata": {},
   "source": [
    "## Isolation Forest\n",
    "\n",
    "Partitions are created by first randomly selecting a feature and then selecting a random split value between the minimum and maximum value of the selected feature. In principle, outliers are less frequent than regular observations and are different from them in terms of values (they lie further away from the regular observations in the feature space). A normal point requires more partitions to be identified than an abnormal point.\n",
    "\n",
    "Isolation based methods are different from others statistics, clustering or nearest- neighbors approaches because they don’t compute a distance or a density from the dataset. Therefore, they have a lower complexity and are more scalable. They don’t suffer from the problem of CPU, memory or time consumption. Thus, isolation based methods are adapted to the data stream context.\n",
    "\n",
    "## Why we using Isolation Forest\n",
    "\n",
    "Unsupervised Algorith for anomaly detection\n",
    "\n",
    "Works well with streaming data, where the size of data is uncertain and data grows infinitely.\n",
    "\n",
    "Can be used in any type of data(categorical or numerical). No feature scaling required.\n",
    "\n",
    "Efficient method for anomaly detection with relatively low complexity, CPU and time consumption."
   ]
  },
  {
   "cell_type": "code",
   "execution_count": 1,
   "metadata": {},
   "outputs": [],
   "source": [
    "import pandas\n",
    "import numpy as np\n",
    "import pandas as pd\n",
    "from urllib.parse import urlparse, parse_qs\n",
    "\n",
    "from sklearn import preprocessing\n",
    "from sklearn.metrics import accuracy_score\n",
    "from sklearn.ensemble import IsolationForest\n",
    "\n",
    "import matplotlib.pyplot as plt\n",
    "import seaborn as sns"
   ]
  },
  {
   "cell_type": "code",
   "execution_count": 2,
   "metadata": {},
   "outputs": [],
   "source": [
    "data = []\n",
    "\n",
    "def file_to_dataframe(filepath, label_id):\n",
    "    with open(filepath, 'r') as fd:\n",
    "        lines = fd.readlines()\n",
    "        request ={}\n",
    "        for line in lines:\n",
    "            if len(line.strip()) == 0:\n",
    "                continue\n",
    "            elif line.startswith('GET') or line.startswith('POST'):\n",
    "                if request:\n",
    "                    data.append(request)\n",
    "                request ={}\n",
    "                line = line.split()\n",
    "                request['Http-Type'] = line[0]\n",
    "                parsed_url = urlparse(line[1])\n",
    "                request['Http-Url'] = parsed_url.netloc\n",
    "                request['Http-Path'] = parsed_url.path\n",
    "                request['Http-Query'] = parsed_url.query\n",
    "                request['Label-Id'] = label_id\n",
    "            elif ' ' in line:\n",
    "                line = line.split(':')\n",
    "                key = line[0]\n",
    "                value = ':'.join(line[1:]).strip()\n",
    "                request[key] = value\n",
    "            else:\n",
    "                request['Http-Query'] = line"
   ]
  },
  {
   "cell_type": "code",
   "execution_count": 3,
   "metadata": {},
   "outputs": [],
   "source": [
    "file_to_dataframe('normalTrafficTraining.txt', 0)\n",
    "file_to_dataframe('anomalousTrafficTest.txt', 1)"
   ]
  },
  {
   "cell_type": "code",
   "execution_count": 4,
   "metadata": {},
   "outputs": [],
   "source": [
    "df = pandas.DataFrame(data=data)"
   ]
  },
  {
   "cell_type": "code",
   "execution_count": 5,
   "metadata": {},
   "outputs": [
    {
     "data": {
      "text/plain": [
       "Http-Type              2\n",
       "Http-Url              13\n",
       "Http-Path           1633\n",
       "Http-Query         23833\n",
       "Label-Id               2\n",
       "User-Agent             1\n",
       "Pragma                 1\n",
       "Cache-control          1\n",
       "Accept                 1\n",
       "Accept-Encoding        1\n",
       "Accept-Charset         1\n",
       "Accept-Language        1\n",
       "Host                   2\n",
       "Cookie             60666\n",
       "Connection             1\n",
       "Content-Type           1\n",
       "Content-Length       382\n",
       "PUT http               8\n",
       "dtype: int64"
      ]
     },
     "execution_count": 5,
     "metadata": {},
     "output_type": "execute_result"
    }
   ],
   "source": [
    "df.nunique()"
   ]
  },
  {
   "cell_type": "markdown",
   "metadata": {},
   "source": [
    "**Using only Http-Path, and Http-Query feature. Other feature contains the same data in all rows.**"
   ]
  },
  {
   "cell_type": "code",
   "execution_count": 6,
   "metadata": {},
   "outputs": [],
   "source": [
    "df = df[['Http-Path', 'Http-Query', 'Label-Id']]"
   ]
  },
  {
   "cell_type": "code",
   "execution_count": 7,
   "metadata": {},
   "outputs": [
    {
     "data": {
      "text/html": [
       "<div>\n",
       "<style scoped>\n",
       "    .dataframe tbody tr th:only-of-type {\n",
       "        vertical-align: middle;\n",
       "    }\n",
       "\n",
       "    .dataframe tbody tr th {\n",
       "        vertical-align: top;\n",
       "    }\n",
       "\n",
       "    .dataframe thead th {\n",
       "        text-align: right;\n",
       "    }\n",
       "</style>\n",
       "<table border=\"1\" class=\"dataframe\">\n",
       "  <thead>\n",
       "    <tr style=\"text-align: right;\">\n",
       "      <th></th>\n",
       "      <th>Http-Path</th>\n",
       "      <th>Http-Query</th>\n",
       "      <th>Label-Id</th>\n",
       "    </tr>\n",
       "  </thead>\n",
       "  <tbody>\n",
       "    <tr>\n",
       "      <th>0</th>\n",
       "      <td>/tienda1/index.jsp</td>\n",
       "      <td></td>\n",
       "      <td>0</td>\n",
       "    </tr>\n",
       "    <tr>\n",
       "      <th>1</th>\n",
       "      <td>/tienda1/publico/anadir.jsp</td>\n",
       "      <td>id=3&amp;nombre=Vino+Rioja&amp;precio=100&amp;cantidad=55&amp;...</td>\n",
       "      <td>0</td>\n",
       "    </tr>\n",
       "    <tr>\n",
       "      <th>2</th>\n",
       "      <td>/tienda1/publico/anadir.jsp</td>\n",
       "      <td>id=3&amp;nombre=Vino+Rioja&amp;precio=100&amp;cantidad=55&amp;...</td>\n",
       "      <td>0</td>\n",
       "    </tr>\n",
       "    <tr>\n",
       "      <th>3</th>\n",
       "      <td>/tienda1/publico/autenticar.jsp</td>\n",
       "      <td>modo=entrar&amp;login=choong&amp;pwd=d1se3ci%F3n&amp;remem...</td>\n",
       "      <td>0</td>\n",
       "    </tr>\n",
       "    <tr>\n",
       "      <th>4</th>\n",
       "      <td>/tienda1/publico/autenticar.jsp</td>\n",
       "      <td>modo=entrar&amp;login=choong&amp;pwd=d1se3ci%F3n&amp;remem...</td>\n",
       "      <td>0</td>\n",
       "    </tr>\n",
       "  </tbody>\n",
       "</table>\n",
       "</div>"
      ],
      "text/plain": [
       "                         Http-Path  \\\n",
       "0               /tienda1/index.jsp   \n",
       "1      /tienda1/publico/anadir.jsp   \n",
       "2      /tienda1/publico/anadir.jsp   \n",
       "3  /tienda1/publico/autenticar.jsp   \n",
       "4  /tienda1/publico/autenticar.jsp   \n",
       "\n",
       "                                          Http-Query  Label-Id  \n",
       "0                                                            0  \n",
       "1  id=3&nombre=Vino+Rioja&precio=100&cantidad=55&...         0  \n",
       "2  id=3&nombre=Vino+Rioja&precio=100&cantidad=55&...         0  \n",
       "3  modo=entrar&login=choong&pwd=d1se3ci%F3n&remem...         0  \n",
       "4  modo=entrar&login=choong&pwd=d1se3ci%F3n&remem...         0  "
      ]
     },
     "execution_count": 7,
     "metadata": {},
     "output_type": "execute_result"
    }
   ],
   "source": [
    "df.head(5)"
   ]
  },
  {
   "cell_type": "code",
   "execution_count": 8,
   "metadata": {},
   "outputs": [
    {
     "data": {
      "text/plain": [
       "Http-Path     0\n",
       "Http-Query    0\n",
       "Label-Id      0\n",
       "dtype: int64"
      ]
     },
     "execution_count": 8,
     "metadata": {},
     "output_type": "execute_result"
    }
   ],
   "source": [
    "df.isnull().sum()"
   ]
  },
  {
   "cell_type": "markdown",
   "metadata": {},
   "source": [
    "**Converting string into numeric categorical data as we can see same data is repeated and while fitting the model numeric data is required.**"
   ]
  },
  {
   "cell_type": "code",
   "execution_count": 9,
   "metadata": {},
   "outputs": [],
   "source": [
    "def convert_to_categorical(dataframe, column):\n",
    "    dataframe[column] = dataframe[column].astype('category').cat.codes\n",
    "    return dataframe\n",
    "\n",
    "for col_name in list(df.columns):\n",
    "    convert_to_categorical(df, col_name)"
   ]
  },
  {
   "cell_type": "code",
   "execution_count": 10,
   "metadata": {},
   "outputs": [
    {
     "data": {
      "text/plain": [
       "Http-Path      1633\n",
       "Http-Query    23833\n",
       "Label-Id          2\n",
       "dtype: int64"
      ]
     },
     "execution_count": 10,
     "metadata": {},
     "output_type": "execute_result"
    }
   ],
   "source": [
    "df.nunique()"
   ]
  },
  {
   "cell_type": "code",
   "execution_count": 11,
   "metadata": {},
   "outputs": [
    {
     "data": {
      "text/plain": [
       "(60666, 3)"
      ]
     },
     "execution_count": 11,
     "metadata": {},
     "output_type": "execute_result"
    }
   ],
   "source": [
    "df.shape"
   ]
  },
  {
   "cell_type": "markdown",
   "metadata": {},
   "source": [
    "**Applying MinMax Normalization in order to convert data into same scale ranging from 0-1. After normalization all the variables have a similar influence on the model.**"
   ]
  },
  {
   "cell_type": "code",
   "execution_count": 12,
   "metadata": {},
   "outputs": [],
   "source": [
    "X = df[['Http-Path', 'Http-Query']]\n",
    "max_min_scaler = preprocessing.MinMaxScaler()\n",
    "data_scaled = max_min_scaler.fit_transform(X)\n",
    "X = pd.DataFrame(data_scaled)"
   ]
  },
  {
   "cell_type": "markdown",
   "metadata": {},
   "source": [
    "**Contamination = 0.5 as we have used 50 % of anomalous data and 50% of Normal data.**"
   ]
  },
  {
   "cell_type": "code",
   "execution_count": 13,
   "metadata": {},
   "outputs": [],
   "source": [
    "model = IsolationForest(contamination=0.5, n_estimators=1000)"
   ]
  },
  {
   "cell_type": "code",
   "execution_count": 14,
   "metadata": {},
   "outputs": [
    {
     "data": {
      "text/plain": [
       "IsolationForest(contamination=0.5, n_estimators=1000)"
      ]
     },
     "execution_count": 14,
     "metadata": {},
     "output_type": "execute_result"
    }
   ],
   "source": [
    "model.fit(X)"
   ]
  },
  {
   "cell_type": "code",
   "execution_count": 15,
   "metadata": {},
   "outputs": [],
   "source": [
    "anomaly_score = model.decision_function(X)"
   ]
  },
  {
   "cell_type": "markdown",
   "metadata": {},
   "source": [
    "**IForest algorithm predict two classes -1 as anomalous and 1 as normal as a result. In our dataset we have lables 0 and 1 representing normal and anomalous data respectively. So, mapping -1(anomalous) to 1 and 1(normal) to 0 as in Label-Id.**"
   ]
  },
  {
   "cell_type": "code",
   "execution_count": 16,
   "metadata": {},
   "outputs": [],
   "source": [
    "X['iforest'] = pd.Series(model.predict(X))\n",
    "X['iforest'] = X['iforest'].map({1:0, -1:1})"
   ]
  },
  {
   "cell_type": "code",
   "execution_count": 17,
   "metadata": {},
   "outputs": [
    {
     "name": "stdout",
     "output_type": "stream",
     "text": [
      "1    30333\n",
      "0    30333\n",
      "Name: iforest, dtype: int64\n"
     ]
    }
   ],
   "source": [
    "print(X['iforest'].value_counts())"
   ]
  },
  {
   "cell_type": "code",
   "execution_count": 18,
   "metadata": {},
   "outputs": [
    {
     "data": {
      "text/plain": [
       "0.7334915768305146"
      ]
     },
     "execution_count": 18,
     "metadata": {},
     "output_type": "execute_result"
    }
   ],
   "source": [
    "accuracy_score(X['iforest'], df['Label-Id'])"
   ]
  },
  {
   "cell_type": "code",
   "execution_count": 19,
   "metadata": {},
   "outputs": [],
   "source": [
    "X['labels'] = df['Label-Id']\n",
    "X['Anomaly-Score'] = anomaly_score"
   ]
  },
  {
   "cell_type": "code",
   "execution_count": 20,
   "metadata": {},
   "outputs": [],
   "source": [
    "X.columns = ['Http-Path', 'Http-Query', 'iforest', 'labels', 'Anomaly-Score']"
   ]
  },
  {
   "cell_type": "markdown",
   "metadata": {},
   "source": [
    "**Anomaly Score ranges from -0.5 to 0.5, numbers near -0.5 represent anomaly and vice-versa.**"
   ]
  },
  {
   "cell_type": "code",
   "execution_count": 21,
   "metadata": {},
   "outputs": [
    {
     "data": {
      "text/html": [
       "<div>\n",
       "<style scoped>\n",
       "    .dataframe tbody tr th:only-of-type {\n",
       "        vertical-align: middle;\n",
       "    }\n",
       "\n",
       "    .dataframe tbody tr th {\n",
       "        vertical-align: top;\n",
       "    }\n",
       "\n",
       "    .dataframe thead th {\n",
       "        text-align: right;\n",
       "    }\n",
       "</style>\n",
       "<table border=\"1\" class=\"dataframe\">\n",
       "  <thead>\n",
       "    <tr style=\"text-align: right;\">\n",
       "      <th></th>\n",
       "      <th>Http-Path</th>\n",
       "      <th>Http-Query</th>\n",
       "      <th>iforest</th>\n",
       "      <th>labels</th>\n",
       "      <th>Anomaly-Score</th>\n",
       "    </tr>\n",
       "  </thead>\n",
       "  <tbody>\n",
       "    <tr>\n",
       "      <th>0</th>\n",
       "      <td>0.484069</td>\n",
       "      <td>0.000000</td>\n",
       "      <td>0</td>\n",
       "      <td>0</td>\n",
       "      <td>0.022142</td>\n",
       "    </tr>\n",
       "    <tr>\n",
       "      <th>1</th>\n",
       "      <td>0.738971</td>\n",
       "      <td>0.181647</td>\n",
       "      <td>1</td>\n",
       "      <td>0</td>\n",
       "      <td>-0.016579</td>\n",
       "    </tr>\n",
       "    <tr>\n",
       "      <th>2</th>\n",
       "      <td>0.738971</td>\n",
       "      <td>0.181688</td>\n",
       "      <td>1</td>\n",
       "      <td>0</td>\n",
       "      <td>-0.016579</td>\n",
       "    </tr>\n",
       "    <tr>\n",
       "      <th>3</th>\n",
       "      <td>0.779412</td>\n",
       "      <td>0.259735</td>\n",
       "      <td>1</td>\n",
       "      <td>0</td>\n",
       "      <td>-0.005321</td>\n",
       "    </tr>\n",
       "    <tr>\n",
       "      <th>4</th>\n",
       "      <td>0.779412</td>\n",
       "      <td>0.259777</td>\n",
       "      <td>1</td>\n",
       "      <td>0</td>\n",
       "      <td>-0.005354</td>\n",
       "    </tr>\n",
       "    <tr>\n",
       "      <th>...</th>\n",
       "      <td>...</td>\n",
       "      <td>...</td>\n",
       "      <td>...</td>\n",
       "      <td>...</td>\n",
       "      <td>...</td>\n",
       "    </tr>\n",
       "    <tr>\n",
       "      <th>60661</th>\n",
       "      <td>0.535539</td>\n",
       "      <td>0.590047</td>\n",
       "      <td>1</td>\n",
       "      <td>1</td>\n",
       "      <td>-0.126100</td>\n",
       "    </tr>\n",
       "    <tr>\n",
       "      <th>60662</th>\n",
       "      <td>0.535539</td>\n",
       "      <td>0.618832</td>\n",
       "      <td>1</td>\n",
       "      <td>1</td>\n",
       "      <td>-0.107356</td>\n",
       "    </tr>\n",
       "    <tr>\n",
       "      <th>60663</th>\n",
       "      <td>0.535539</td>\n",
       "      <td>0.618874</td>\n",
       "      <td>1</td>\n",
       "      <td>1</td>\n",
       "      <td>-0.107316</td>\n",
       "    </tr>\n",
       "    <tr>\n",
       "      <th>60664</th>\n",
       "      <td>0.539828</td>\n",
       "      <td>0.000000</td>\n",
       "      <td>0</td>\n",
       "      <td>1</td>\n",
       "      <td>0.013239</td>\n",
       "    </tr>\n",
       "    <tr>\n",
       "      <th>60665</th>\n",
       "      <td>0.375000</td>\n",
       "      <td>0.000000</td>\n",
       "      <td>0</td>\n",
       "      <td>1</td>\n",
       "      <td>0.013917</td>\n",
       "    </tr>\n",
       "  </tbody>\n",
       "</table>\n",
       "<p>60666 rows × 5 columns</p>\n",
       "</div>"
      ],
      "text/plain": [
       "       Http-Path  Http-Query  iforest  labels  Anomaly-Score\n",
       "0       0.484069    0.000000        0       0       0.022142\n",
       "1       0.738971    0.181647        1       0      -0.016579\n",
       "2       0.738971    0.181688        1       0      -0.016579\n",
       "3       0.779412    0.259735        1       0      -0.005321\n",
       "4       0.779412    0.259777        1       0      -0.005354\n",
       "...          ...         ...      ...     ...            ...\n",
       "60661   0.535539    0.590047        1       1      -0.126100\n",
       "60662   0.535539    0.618832        1       1      -0.107356\n",
       "60663   0.535539    0.618874        1       1      -0.107316\n",
       "60664   0.539828    0.000000        0       1       0.013239\n",
       "60665   0.375000    0.000000        0       1       0.013917\n",
       "\n",
       "[60666 rows x 5 columns]"
      ]
     },
     "execution_count": 21,
     "metadata": {},
     "output_type": "execute_result"
    }
   ],
   "source": [
    "X"
   ]
  },
  {
   "cell_type": "code",
   "execution_count": 22,
   "metadata": {},
   "outputs": [
    {
     "data": {
      "image/png": "[encoded data removed]",
      "text/plain": [
       "<Figure size 432x288 with 1 Axes>"
      ]
     },
     "metadata": {
      "needs_background": "light"
     },
     "output_type": "display_data"
    }
   ],
   "source": [
    "fig, ax1 = plt.subplots()\n",
    "ax1.scatter(X['Http-Path'],X['Http-Query'], c=X['iforest'], cmap = 'rainbow')\n",
    "plt.show()"
   ]
  }
 ],
 "metadata": {
  "kernelspec": {
   "display_name": "Python 3",
   "language": "python",
   "name": "python3"
  },
  "language_info": {
   "codemirror_mode": {
    "name": "ipython",
    "version": 3
   },
   "file_extension": ".py",
   "mimetype": "text/x-python",
   "name": "python",
   "nbconvert_exporter": "python",
   "pygments_lexer": "ipython3",
   "version": "3.7.4"
  }
 },
 "nbformat": 4,
 "nbformat_minor": 4
}
