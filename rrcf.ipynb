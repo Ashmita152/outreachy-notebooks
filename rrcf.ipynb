{
 "cells": [
  {
   "cell_type": "code",
   "execution_count": 1,
   "metadata": {},
   "outputs": [],
   "source": [
    "import pandas\n",
    "import numpy\n",
    "import rrcf\n",
    "import time\n",
    "\n",
    "from sklearn import metrics\n",
    "from sklearn import preprocessing\n",
    "from urllib.parse import urlparse"
   ]
  },
  {
   "cell_type": "code",
   "execution_count": 2,
   "metadata": {},
   "outputs": [],
   "source": [
    "data = []\n",
    "\n",
    "def file_to_dataframe(filepath, label):\n",
    "    with open(filepath, 'r') as fd:\n",
    "        lines = fd.readlines()\n",
    "        request ={}\n",
    "        for line in lines:\n",
    "            if len(line.strip()) == 0:\n",
    "                continue\n",
    "            elif line.startswith('GET') or line.startswith('POST') or line.startswith('PUT'):\n",
    "                if request:\n",
    "                    data.append(request)\n",
    "                request = {}\n",
    "                line = line.split()\n",
    "                parsed_url = urlparse(line[1])\n",
    "                request['query'] = parsed_url.query\n",
    "                request['label'] = label\n",
    "            elif ' ' in line:\n",
    "                continue\n",
    "            else:\n",
    "                request['query'] = line.strip()"
   ]
  },
  {
   "cell_type": "code",
   "execution_count": 3,
   "metadata": {},
   "outputs": [],
   "source": [
    "file_to_dataframe('normalTrafficTraining.txt', 0)\n",
    "file_to_dataframe('anomalousTrafficTest.txt', 1)"
   ]
  },
  {
   "cell_type": "code",
   "execution_count": 4,
   "metadata": {},
   "outputs": [],
   "source": [
    "df = pandas.DataFrame(data=data)\n",
    "original_df = df.copy(deep=True)"
   ]
  },
  {
   "cell_type": "code",
   "execution_count": 5,
   "metadata": {},
   "outputs": [],
   "source": [
    "def convert_to_categorical(dataframe, column):\n",
    "    dataframe[column] = dataframe[column].astype('category').cat.codes\n",
    "    return dataframe\n",
    "\n",
    "for col_name in list(df.columns):\n",
    "    convert_to_categorical(df, col_name)"
   ]
  },
  {
   "cell_type": "code",
   "execution_count": 6,
   "metadata": {},
   "outputs": [],
   "source": [
    "arr = df.to_numpy()"
   ]
  },
  {
   "cell_type": "code",
   "execution_count": 7,
   "metadata": {},
   "outputs": [],
   "source": [
    "min_max_scaler = preprocessing.MinMaxScaler()\n",
    "scaled_arr = min_max_scaler.fit_transform(arr)\n",
    "scaled_df = pandas.DataFrame(data=scaled_arr.flatten())"
   ]
  },
  {
   "cell_type": "code",
   "execution_count": 8,
   "metadata": {},
   "outputs": [],
   "source": [
    "def shingle(series, dim):\n",
    "    height = len(series) - dim + 1\n",
    "    shingled = numpy.zeros((dim, height))\n",
    "    for i in range(dim):\n",
    "        shingled[i] = series[i:i + height]\n",
    "    return shingled"
   ]
  },
  {
   "cell_type": "code",
   "execution_count": 9,
   "metadata": {},
   "outputs": [],
   "source": [
    "trials = 5\n",
    "value = list(scaled_df[0])\n",
    "arr = numpy.array(value)\n",
    "y = numpy.array(list(df[\"label\"]))\n",
    "X = shingle(arr, 10)\n",
    "X = numpy.transpose(X)\n",
    "t1, _ = numpy.shape(X)\n",
    "[n,d] = numpy.shape(X)\n",
    "y = y[:t1]\n",
    "time_all = numpy.zeros((trials,4))\n",
    "precision_all = numpy.zeros((trials,4))\n",
    "auc_all = numpy.zeros((trials,4))"
   ]
  },
  {
   "cell_type": "code",
   "execution_count": 11,
   "metadata": {},
   "outputs": [
    {
     "name": "stdout",
     "output_type": "stream",
     "text": [
      "\n",
      "\n",
      "****** trial 1*******\n",
      "\n",
      "\n",
      "0         7.045045\n",
      "1         8.525000\n",
      "2         5.450000\n",
      "3         8.016667\n",
      "4         5.337302\n",
      "            ...   \n",
      "122112    4.229730\n",
      "122113    5.500000\n",
      "122114    1.986702\n",
      "122115    5.361111\n",
      "122116    4.583333\n",
      "Length: 122117, dtype: float64\n",
      "\n",
      "\n",
      "****** trial 2*******\n",
      "\n",
      "\n",
      "0         10.250000\n",
      "1         26.923077\n",
      "2         18.433333\n",
      "3         42.500000\n",
      "4         41.033333\n",
      "            ...    \n",
      "122112     2.589020\n",
      "122113     4.885802\n",
      "122114     3.145614\n",
      "122115    11.000000\n",
      "122116     2.869631\n",
      "Length: 122117, dtype: float64\n",
      "\n",
      "\n",
      "****** trial 3*******\n",
      "\n",
      "\n",
      "0          7.421875\n",
      "1          4.547143\n",
      "2          5.229323\n",
      "3         22.083333\n",
      "4         33.600000\n",
      "            ...    \n",
      "122112     2.141026\n",
      "122113    12.250000\n",
      "122114     4.640625\n",
      "122115     6.051282\n",
      "122116     2.664516\n",
      "Length: 122117, dtype: float64\n",
      "\n",
      "\n",
      "****** trial 4*******\n",
      "\n",
      "\n",
      "0          7.622222\n",
      "1          7.099206\n",
      "2          7.513889\n",
      "3         31.100000\n",
      "4         10.366071\n",
      "            ...    \n",
      "122112     2.100000\n",
      "122113     5.150000\n",
      "122114     3.530738\n",
      "122115     4.225926\n",
      "122116     7.888889\n",
      "Length: 122117, dtype: float64\n",
      "\n",
      "\n",
      "****** trial 5*******\n",
      "\n",
      "\n",
      "0         28.250000\n",
      "1         18.375000\n",
      "2         11.068182\n",
      "3          4.751282\n",
      "4          6.654762\n",
      "            ...    \n",
      "122112     4.000000\n",
      "122113     2.975000\n",
      "122114     3.105882\n",
      "122115     2.785861\n",
      "122116     9.669492\n",
      "Length: 122117, dtype: float64\n"
     ]
    }
   ],
   "source": [
    "for j in range(0,trials):\n",
    "    print('\\n\\n******'+' trial '+str(j+1)+'*******\\n\\n')\n",
    "    num_trees = 500\n",
    "    tree_size = 256\n",
    "    start = time.time()\n",
    "    forest = []\n",
    "    while len(forest) < num_trees:\n",
    "        # Select random subsets of points uniformly from point set\n",
    "        ixs = numpy.random.choice(n, size=(n // tree_size, tree_size), replace=False)\n",
    "        # Add sampled trees to forest\n",
    "        trees = [rrcf.RCTree(X[ix], index_labels=ix) for ix in ixs]\n",
    "        forest.extend(trees)\n",
    "\n",
    "    end = time.time()\n",
    "    time_all[j,0] = end - start        \n",
    "        \n",
    "    # Compute average CoDisp\n",
    "    avg_codisp = pandas.Series(0.0, index=numpy.arange(n))\n",
    "    index = numpy.zeros(n)\n",
    "    for tree in forest:\n",
    "        codisp = pandas.Series({leaf : tree.codisp(leaf) for leaf in tree.leaves})\n",
    "        avg_codisp[codisp.index] += codisp\n",
    "        numpy.add.at(index, codisp.index.values, 1)\n",
    "    avg_codisp /= index\n",
    "    iso_scores = avg_codisp  \n",
    "    print(avg_codisp)"
   ]
  },
  {
   "cell_type": "code",
   "execution_count": null,
   "metadata": {},
   "outputs": [],
   "source": []
  }
 ],
 "metadata": {
  "kernelspec": {
   "display_name": "Python 3",
   "language": "python",
   "name": "python3"
  },
  "language_info": {
   "codemirror_mode": {
    "name": "ipython",
    "version": 3
   },
   "file_extension": ".py",
   "mimetype": "text/x-python",
   "name": "python",
   "nbconvert_exporter": "python",
   "pygments_lexer": "ipython3",
   "version": "3.8.2"
  }
 },
 "nbformat": 4,
 "nbformat_minor": 4
}
